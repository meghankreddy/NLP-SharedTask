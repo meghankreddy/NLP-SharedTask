{
  "metadata": {
    "kernelspec": {
      "language": "python",
      "display_name": "Python 3",
      "name": "python3"
    },
    "language_info": {
      "name": "python",
      "version": "3.7.12",
      "mimetype": "text/x-python",
      "codemirror_mode": {
        "name": "ipython",
        "version": 3
      },
      "pygments_lexer": "ipython3",
      "nbconvert_exporter": "python",
      "file_extension": ".py"
    },
    "colab": {
      "provenance": []
    },
    "accelerator": "GPU",
    "gpuClass": "standard"
  },
  "nbformat_minor": 0,
  "nbformat": 4,
  "cells": [
    {
      "cell_type": "code",
      "source": [
        "pip install spacy[transformers]"
      ],
      "metadata": {
        "execution": {
          "iopub.status.busy": "2022-11-30T19:30:07.698637Z",
          "iopub.execute_input": "2022-11-30T19:30:07.699121Z",
          "iopub.status.idle": "2022-11-30T19:30:18.532156Z",
          "shell.execute_reply.started": "2022-11-30T19:30:07.699077Z",
          "shell.execute_reply": "2022-11-30T19:30:18.530886Z"
        },
        "trusted": true,
        "colab": {
          "base_uri": "https://localhost:8080/"
        },
        "id": "ZF8iRYus8sI5",
        "outputId": "8596b6ee-c0f8-4e9f-9238-d5ad0ec56fc9"
      },
      "execution_count": 1,
      "outputs": [
        {
          "output_type": "stream",
          "name": "stdout",
          "text": [
            "Looking in indexes: https://pypi.org/simple, https://us-python.pkg.dev/colab-wheels/public/simple/\n",
            "Requirement already satisfied: spacy[transformers] in /usr/local/lib/python3.8/dist-packages (3.4.3)\n",
            "Requirement already satisfied: murmurhash<1.1.0,>=0.28.0 in /usr/local/lib/python3.8/dist-packages (from spacy[transformers]) (1.0.9)\n",
            "Requirement already satisfied: cymem<2.1.0,>=2.0.2 in /usr/local/lib/python3.8/dist-packages (from spacy[transformers]) (2.0.7)\n",
            "Requirement already satisfied: spacy-legacy<3.1.0,>=3.0.10 in /usr/local/lib/python3.8/dist-packages (from spacy[transformers]) (3.0.10)\n",
            "Requirement already satisfied: packaging>=20.0 in /usr/local/lib/python3.8/dist-packages (from spacy[transformers]) (21.3)\n",
            "Requirement already satisfied: wasabi<1.1.0,>=0.9.1 in /usr/local/lib/python3.8/dist-packages (from spacy[transformers]) (0.10.1)\n",
            "Requirement already satisfied: spacy-loggers<2.0.0,>=1.0.0 in /usr/local/lib/python3.8/dist-packages (from spacy[transformers]) (1.0.3)\n",
            "Requirement already satisfied: srsly<3.0.0,>=2.4.3 in /usr/local/lib/python3.8/dist-packages (from spacy[transformers]) (2.4.5)\n",
            "Requirement already satisfied: numpy>=1.15.0 in /usr/local/lib/python3.8/dist-packages (from spacy[transformers]) (1.21.6)\n",
            "Requirement already satisfied: pathy>=0.3.5 in /usr/local/lib/python3.8/dist-packages (from spacy[transformers]) (0.10.0)\n",
            "Requirement already satisfied: thinc<8.2.0,>=8.1.0 in /usr/local/lib/python3.8/dist-packages (from spacy[transformers]) (8.1.5)\n",
            "Requirement already satisfied: typer<0.8.0,>=0.3.0 in /usr/local/lib/python3.8/dist-packages (from spacy[transformers]) (0.7.0)\n",
            "Requirement already satisfied: requests<3.0.0,>=2.13.0 in /usr/local/lib/python3.8/dist-packages (from spacy[transformers]) (2.23.0)\n",
            "Requirement already satisfied: catalogue<2.1.0,>=2.0.6 in /usr/local/lib/python3.8/dist-packages (from spacy[transformers]) (2.0.8)\n",
            "Requirement already satisfied: setuptools in /usr/local/lib/python3.8/dist-packages (from spacy[transformers]) (57.4.0)\n",
            "Requirement already satisfied: preshed<3.1.0,>=3.0.2 in /usr/local/lib/python3.8/dist-packages (from spacy[transformers]) (3.0.8)\n",
            "Requirement already satisfied: jinja2 in /usr/local/lib/python3.8/dist-packages (from spacy[transformers]) (2.11.3)\n",
            "Requirement already satisfied: tqdm<5.0.0,>=4.38.0 in /usr/local/lib/python3.8/dist-packages (from spacy[transformers]) (4.64.1)\n",
            "Requirement already satisfied: langcodes<4.0.0,>=3.2.0 in /usr/local/lib/python3.8/dist-packages (from spacy[transformers]) (3.3.0)\n",
            "Requirement already satisfied: pydantic!=1.8,!=1.8.1,<1.11.0,>=1.7.4 in /usr/local/lib/python3.8/dist-packages (from spacy[transformers]) (1.10.2)\n",
            "Collecting spacy-transformers<1.2.0,>=1.1.2\n",
            "  Downloading spacy_transformers-1.1.8-py2.py3-none-any.whl (53 kB)\n",
            "\u001b[K     |████████████████████████████████| 53 kB 2.0 MB/s \n",
            "\u001b[?25hRequirement already satisfied: pyparsing!=3.0.5,>=2.0.2 in /usr/local/lib/python3.8/dist-packages (from packaging>=20.0->spacy[transformers]) (3.0.9)\n",
            "Requirement already satisfied: smart-open<6.0.0,>=5.2.1 in /usr/local/lib/python3.8/dist-packages (from pathy>=0.3.5->spacy[transformers]) (5.2.1)\n",
            "Requirement already satisfied: typing-extensions>=4.1.0 in /usr/local/lib/python3.8/dist-packages (from pydantic!=1.8,!=1.8.1,<1.11.0,>=1.7.4->spacy[transformers]) (4.4.0)\n",
            "Requirement already satisfied: idna<3,>=2.5 in /usr/local/lib/python3.8/dist-packages (from requests<3.0.0,>=2.13.0->spacy[transformers]) (2.10)\n",
            "Requirement already satisfied: chardet<4,>=3.0.2 in /usr/local/lib/python3.8/dist-packages (from requests<3.0.0,>=2.13.0->spacy[transformers]) (3.0.4)\n",
            "Requirement already satisfied: urllib3!=1.25.0,!=1.25.1,<1.26,>=1.21.1 in /usr/local/lib/python3.8/dist-packages (from requests<3.0.0,>=2.13.0->spacy[transformers]) (1.24.3)\n",
            "Requirement already satisfied: certifi>=2017.4.17 in /usr/local/lib/python3.8/dist-packages (from requests<3.0.0,>=2.13.0->spacy[transformers]) (2022.9.24)\n",
            "Requirement already satisfied: torch>=1.6.0 in /usr/local/lib/python3.8/dist-packages (from spacy-transformers<1.2.0,>=1.1.2->spacy[transformers]) (1.13.0+cu116)\n",
            "Collecting spacy-alignments<1.0.0,>=0.7.2\n",
            "  Downloading spacy_alignments-0.8.6-cp38-cp38-manylinux_2_17_x86_64.manylinux2014_x86_64.whl (1.1 MB)\n",
            "\u001b[K     |████████████████████████████████| 1.1 MB 318 kB/s \n",
            "\u001b[?25hCollecting transformers<4.22.0,>=3.4.0\n",
            "  Downloading transformers-4.21.3-py3-none-any.whl (4.7 MB)\n",
            "\u001b[K     |████████████████████████████████| 4.7 MB 4.9 MB/s \n",
            "\u001b[?25hRequirement already satisfied: confection<1.0.0,>=0.0.1 in /usr/local/lib/python3.8/dist-packages (from thinc<8.2.0,>=8.1.0->spacy[transformers]) (0.0.3)\n",
            "Requirement already satisfied: blis<0.8.0,>=0.7.8 in /usr/local/lib/python3.8/dist-packages (from thinc<8.2.0,>=8.1.0->spacy[transformers]) (0.7.9)\n",
            "Requirement already satisfied: pyyaml>=5.1 in /usr/local/lib/python3.8/dist-packages (from transformers<4.22.0,>=3.4.0->spacy-transformers<1.2.0,>=1.1.2->spacy[transformers]) (6.0)\n",
            "Collecting huggingface-hub<1.0,>=0.1.0\n",
            "  Downloading huggingface_hub-0.11.1-py3-none-any.whl (182 kB)\n",
            "\u001b[K     |████████████████████████████████| 182 kB 17.2 MB/s \n",
            "\u001b[?25hRequirement already satisfied: regex!=2019.12.17 in /usr/local/lib/python3.8/dist-packages (from transformers<4.22.0,>=3.4.0->spacy-transformers<1.2.0,>=1.1.2->spacy[transformers]) (2022.6.2)\n",
            "Collecting tokenizers!=0.11.3,<0.13,>=0.11.1\n",
            "  Downloading tokenizers-0.12.1-cp38-cp38-manylinux_2_12_x86_64.manylinux2010_x86_64.whl (6.6 MB)\n",
            "\u001b[K     |████████████████████████████████| 6.6 MB 17.1 MB/s \n",
            "\u001b[?25hRequirement already satisfied: filelock in /usr/local/lib/python3.8/dist-packages (from transformers<4.22.0,>=3.4.0->spacy-transformers<1.2.0,>=1.1.2->spacy[transformers]) (3.8.0)\n",
            "Requirement already satisfied: click<9.0.0,>=7.1.1 in /usr/local/lib/python3.8/dist-packages (from typer<0.8.0,>=0.3.0->spacy[transformers]) (7.1.2)\n",
            "Requirement already satisfied: MarkupSafe>=0.23 in /usr/local/lib/python3.8/dist-packages (from jinja2->spacy[transformers]) (2.0.1)\n",
            "Installing collected packages: tokenizers, huggingface-hub, transformers, spacy-alignments, spacy-transformers\n",
            "Successfully installed huggingface-hub-0.11.1 spacy-alignments-0.8.6 spacy-transformers-1.1.8 tokenizers-0.12.1 transformers-4.21.3\n"
          ]
        }
      ]
    },
    {
      "cell_type": "code",
      "source": [
        "import json\n",
        "import spacy\n",
        "from spacy.tokens import DocBin\n",
        "from tqdm import tqdm\n",
        "from spacy.util import filter_spans"
      ],
      "metadata": {
        "id": "GNlDKN8Ut19l"
      },
      "execution_count": 2,
      "outputs": []
    },
    {
      "cell_type": "code",
      "source": [
        "## Loading the json files to be trained and tested for the model.\n",
        "\n",
        "# Training datasets\n",
        "with open('NER_TRAIN_PREAMBLE.json', 'r') as f:\n",
        "    data_A = json.load(f)\n",
        "\n",
        "with open('NER_TRAIN_JUDGEMENT.json', 'r') as f:\n",
        "    data_B = json.load(f)\n",
        "\n",
        "# Dev Test datasets\n",
        "with open('NER_DEV_PREAMBLE.json', 'r') as f:\n",
        "    data_C = json.load(f)\n",
        "\n",
        "with open('NER_DEV_JUDGEMENT.json', 'r') as f:\n",
        "    data_D = json.load(f)"
      ],
      "metadata": {
        "execution": {
          "iopub.status.busy": "2022-11-30T19:30:27.031221Z",
          "iopub.execute_input": "2022-11-30T19:30:27.031657Z",
          "iopub.status.idle": "2022-11-30T19:30:27.517051Z",
          "shell.execute_reply.started": "2022-11-30T19:30:27.031623Z",
          "shell.execute_reply": "2022-11-30T19:30:27.516068Z"
        },
        "trusted": true,
        "id": "aCQ54XYp8sI6"
      },
      "execution_count": 4,
      "outputs": []
    },
    {
      "cell_type": "code",
      "source": [
        "preamble_data = {'classes' : [], 'annotations' : []}\n",
        "judgement_data = {'classes' : [], 'annotations' : []}\n",
        "\n",
        "for data in data_A:\n",
        "  if len(data['annotations']) >= 1 and len(data['annotations'][0]['result']) >= 1:\n",
        "    dict = {}\n",
        "    dict['text'], dict['entities'] = data['data']['text'], []\n",
        "    start = data['annotations'][0]['result'][0]['value']['start']\n",
        "    end = data['annotations'][0]['result'][0]['value']['end']\n",
        "    label = data['annotations'][0]['result'][0]['value']['labels'][0].upper()\n",
        "    dict['entities'].append((start, end, label))\n",
        "    preamble_data['annotations'].append(dict)\n",
        "\n",
        "for data in data_B:\n",
        "  if len(data['annotations']) >= 1 and len(data['annotations'][0]['result']) >= 1:\n",
        "    dict = {}\n",
        "    dict['text'], dict['entities'] = data['data']['text'], []\n",
        "    start = data['annotations'][0]['result'][0]['value']['start']\n",
        "    end = data['annotations'][0]['result'][0]['value']['end']\n",
        "    label = data['annotations'][0]['result'][0]['value']['labels'][0].upper()\n",
        "    dict['entities'].append((start, end, label))\n",
        "    judgement_data['annotations'].append(dict)"
      ],
      "metadata": {
        "execution": {
          "iopub.status.busy": "2022-11-30T19:30:31.496794Z",
          "iopub.execute_input": "2022-11-30T19:30:31.497746Z",
          "iopub.status.idle": "2022-11-30T19:30:31.514240Z",
          "shell.execute_reply.started": "2022-11-30T19:30:31.497699Z",
          "shell.execute_reply": "2022-11-30T19:30:31.513331Z"
        },
        "trusted": true,
        "id": "gmhb8KaN8sI7"
      },
      "execution_count": 5,
      "outputs": []
    },
    {
      "cell_type": "code",
      "source": [
        "# loading a new preamble spacy model\n",
        "preamble_model = spacy.blank(\"en\")\n",
        "\n",
        "# create a DocBin object\n",
        "bin = DocBin() \n",
        "for annotation in tqdm(preamble_data['annotations']): \n",
        "    text = annotation['text']\n",
        "    labels = annotation['entities']\n",
        "    doc = preamble_model.make_doc(text) \n",
        "    entities = []\n",
        "    for start, end, label in labels:\n",
        "        span = doc.char_span(start, end, label=label, alignment_mode=\"contract\")\n",
        "        if span is None:\n",
        "            print(\"Skipping entity\")\n",
        "        else:\n",
        "            entities.append(span)\n",
        "    filtered_entities = filter_spans(entities)\n",
        "    doc.ents = filtered_entities \n",
        "    bin.add(doc)\n",
        "\n",
        "bin.to_disk(\"preamble_training_data.spacy\") # save the docbin object"
      ],
      "metadata": {
        "execution": {
          "iopub.status.busy": "2022-11-30T19:30:40.987204Z",
          "iopub.execute_input": "2022-11-30T19:30:40.987604Z",
          "iopub.status.idle": "2022-11-30T19:30:44.510888Z",
          "shell.execute_reply.started": "2022-11-30T19:30:40.987570Z",
          "shell.execute_reply": "2022-11-30T19:30:44.509886Z"
        },
        "trusted": true,
        "colab": {
          "base_uri": "https://localhost:8080/"
        },
        "id": "x2nY4b3L8sI7",
        "outputId": "e53b8de5-9496-43b3-c91a-a9fb3a356682"
      },
      "execution_count": 6,
      "outputs": [
        {
          "output_type": "stream",
          "name": "stderr",
          "text": [
            "100%|██████████| 1558/1558 [00:03<00:00, 497.81it/s]\n"
          ]
        }
      ]
    },
    {
      "cell_type": "code",
      "source": [
        "# loading a new judgement spacy model\n",
        "judgement_model = spacy.blank(\"en\")\n",
        "\n",
        "# create a DocBin object\n",
        "bin = DocBin() \n",
        "for annotation in tqdm(judgement_data['annotations']): \n",
        "    text = annotation['text']\n",
        "    labels = annotation['entities']\n",
        "    doc = judgement_model.make_doc(text) \n",
        "    entities = []\n",
        "    for start, end, label in labels:\n",
        "        span = doc.char_span(start, end, label=label, alignment_mode=\"contract\")\n",
        "        if span is None:\n",
        "            print(\"Skipping entity\")\n",
        "        else:\n",
        "            entities.append(span)\n",
        "    filtered_entities = filter_spans(entities)\n",
        "    doc.ents = filtered_entities \n",
        "    bin.add(doc)\n",
        "\n",
        "bin.to_disk(\"judgement_training_data.spacy\") # save the docbin object"
      ],
      "metadata": {
        "colab": {
          "base_uri": "https://localhost:8080/"
        },
        "id": "VCR_79qTnqki",
        "outputId": "29e9a556-1bc0-4021-8c15-5f10b0d7a021"
      },
      "execution_count": 7,
      "outputs": [
        {
          "output_type": "stream",
          "name": "stderr",
          "text": [
            "100%|██████████| 7258/7258 [00:04<00:00, 1620.42it/s]\n"
          ]
        }
      ]
    },
    {
      "cell_type": "code",
      "source": [
        "!python -m spacy init fill-config base_config.cfg config.cfg"
      ],
      "metadata": {
        "execution": {
          "iopub.status.busy": "2022-11-30T19:30:57.428271Z",
          "iopub.execute_input": "2022-11-30T19:30:57.428676Z",
          "iopub.status.idle": "2022-11-30T19:31:06.001248Z",
          "shell.execute_reply.started": "2022-11-30T19:30:57.428641Z",
          "shell.execute_reply": "2022-11-30T19:31:05.999941Z"
        },
        "trusted": true,
        "colab": {
          "base_uri": "https://localhost:8080/"
        },
        "id": "5q8mw3lb8sI8",
        "outputId": "b5415ed5-8f79-4ed1-c77a-c51ef0f405d9"
      },
      "execution_count": 8,
      "outputs": [
        {
          "output_type": "stream",
          "name": "stdout",
          "text": [
            "\u001b[38;5;2m✔ Auto-filled config with all values\u001b[0m\n",
            "\u001b[38;5;2m✔ Saved config\u001b[0m\n",
            "config.cfg\n",
            "You can now add your data and train your pipeline:\n",
            "python -m spacy train config.cfg --paths.train ./train.spacy --paths.dev ./dev.spacy\n"
          ]
        }
      ]
    },
    {
      "cell_type": "code",
      "source": [
        "!python -m spacy train config.cfg --output ./ --paths.train ./preamble_training_data.spacy --paths.dev ./preamble_training_data.spacy --gpu-id 0"
      ],
      "metadata": {
        "colab": {
          "base_uri": "https://localhost:8080/"
        },
        "id": "IjDT4pIJorbb",
        "outputId": "e58cb1af-7293-47e7-aac0-0f35f4f8a5bf"
      },
      "execution_count": 9,
      "outputs": [
        {
          "output_type": "stream",
          "name": "stdout",
          "text": [
            "\u001b[38;5;4mℹ Saving to output directory: .\u001b[0m\n",
            "\u001b[38;5;4mℹ Using GPU: 0\u001b[0m\n",
            "\u001b[1m\n",
            "=========================== Initializing pipeline ===========================\u001b[0m\n",
            "[2022-12-13 19:06:51,735] [INFO] Set up nlp object from config\n",
            "INFO:spacy:Set up nlp object from config\n",
            "[2022-12-13 19:06:51,745] [INFO] Pipeline: ['transformer', 'ner']\n",
            "INFO:spacy:Pipeline: ['transformer', 'ner']\n",
            "[2022-12-13 19:06:51,749] [INFO] Created vocabulary\n",
            "INFO:spacy:Created vocabulary\n",
            "[2022-12-13 19:06:51,750] [INFO] Finished initializing nlp object\n",
            "INFO:spacy:Finished initializing nlp object\n",
            "Downloading tokenizer_config.json: 100% 28.0/28.0 [00:00<00:00, 38.8kB/s]\n",
            "Downloading config.json: 100% 483/483 [00:00<00:00, 579kB/s]\n",
            "Downloading vocab.txt: 100% 226k/226k [00:00<00:00, 1.25MB/s]\n",
            "Downloading tokenizer.json: 100% 455k/455k [00:00<00:00, 1.50MB/s]\n",
            "Downloading pytorch_model.bin: 100% 256M/256M [00:04<00:00, 59.4MB/s]\n",
            "Some weights of the model checkpoint at distilbert-base-uncased were not used when initializing DistilBertModel: ['vocab_projector.bias', 'vocab_transform.bias', 'vocab_layer_norm.weight', 'vocab_transform.weight', 'vocab_projector.weight', 'vocab_layer_norm.bias']\n",
            "- This IS expected if you are initializing DistilBertModel from the checkpoint of a model trained on another task or with another architecture (e.g. initializing a BertForSequenceClassification model from a BertForPreTraining model).\n",
            "- This IS NOT expected if you are initializing DistilBertModel from the checkpoint of a model that you expect to be exactly identical (initializing a BertForSequenceClassification model from a BertForSequenceClassification model).\n",
            "[2022-12-13 19:07:27,120] [INFO] Initialized pipeline components: ['transformer', 'ner']\n",
            "INFO:spacy:Initialized pipeline components: ['transformer', 'ner']\n",
            "\u001b[38;5;2m✔ Initialized pipeline\u001b[0m\n",
            "\u001b[1m\n",
            "============================= Training pipeline =============================\u001b[0m\n",
            "\u001b[38;5;4mℹ Pipeline: ['transformer', 'ner']\u001b[0m\n",
            "\u001b[38;5;4mℹ Initial learn rate: 0.0\u001b[0m\n",
            "E    #       LOSS TRANS...  LOSS NER  ENTS_F  ENTS_P  ENTS_R  SCORE \n",
            "---  ------  -------------  --------  ------  ------  ------  ------\n",
            "Token indices sequence length is longer than the specified maximum sequence length for this model (577 > 512). Running this sequence through the model will result in indexing errors\n",
            "  0       0        9256.68    654.72    0.02    0.01    0.06    0.00\n",
            "  1     200     1083422.09  86507.27   42.56   42.89   42.23    0.43\n",
            "  2     400       42824.31  58847.49   63.83   61.09   66.82    0.64\n",
            "  3     600        4002.55  58804.40   76.06   72.30   80.23    0.76\n",
            "  4     800       10421.14  57079.86   75.09   73.01   77.28    0.75\n",
            "  5    1000        1161.92  57807.28   88.45   85.68   91.40    0.88\n",
            "  6    1200         573.25  56226.06   88.72   85.35   92.36    0.89\n",
            "  8    1400       13443.13  55879.21   83.45   84.57   82.35    0.83\n",
            "  9    1600         432.75  56360.02   92.35   89.28   95.64    0.92\n",
            " 10    1800        3088.36  55264.25   92.67   89.77   95.76    0.93\n",
            "\n",
            "Aborted!\n"
          ]
        }
      ]
    },
    {
      "cell_type": "code",
      "source": [
        "!python -m spacy train config.cfg --output ./ --paths.train ./judgement_training_data.spacy --paths.dev ./judgement_training_data.spacy --gpu-id 0"
      ],
      "metadata": {
        "execution": {
          "iopub.status.busy": "2022-11-30T19:31:07.803802Z",
          "iopub.execute_input": "2022-11-30T19:31:07.804527Z",
          "iopub.status.idle": "2022-11-30T20:24:46.020674Z",
          "shell.execute_reply.started": "2022-11-30T19:31:07.804474Z",
          "shell.execute_reply": "2022-11-30T20:24:46.019470Z"
        },
        "trusted": true,
        "colab": {
          "base_uri": "https://localhost:8080/"
        },
        "id": "58HkaHJp8sI8",
        "outputId": "8b220de0-4212-4e67-e91b-8065b490a56a"
      },
      "execution_count": 10,
      "outputs": [
        {
          "output_type": "stream",
          "name": "stdout",
          "text": [
            "\u001b[38;5;4mℹ Saving to output directory: .\u001b[0m\n",
            "\u001b[38;5;4mℹ Using GPU: 0\u001b[0m\n",
            "\u001b[1m\n",
            "=========================== Initializing pipeline ===========================\u001b[0m\n",
            "[2022-12-13 19:34:57,928] [INFO] Set up nlp object from config\n",
            "INFO:spacy:Set up nlp object from config\n",
            "[2022-12-13 19:34:57,939] [INFO] Pipeline: ['transformer', 'ner']\n",
            "INFO:spacy:Pipeline: ['transformer', 'ner']\n",
            "[2022-12-13 19:34:57,942] [INFO] Created vocabulary\n",
            "INFO:spacy:Created vocabulary\n",
            "[2022-12-13 19:34:57,943] [INFO] Finished initializing nlp object\n",
            "INFO:spacy:Finished initializing nlp object\n",
            "Some weights of the model checkpoint at distilbert-base-uncased were not used when initializing DistilBertModel: ['vocab_projector.bias', 'vocab_projector.weight', 'vocab_transform.bias', 'vocab_layer_norm.bias', 'vocab_layer_norm.weight', 'vocab_transform.weight']\n",
            "- This IS expected if you are initializing DistilBertModel from the checkpoint of a model trained on another task or with another architecture (e.g. initializing a BertForSequenceClassification model from a BertForPreTraining model).\n",
            "- This IS NOT expected if you are initializing DistilBertModel from the checkpoint of a model that you expect to be exactly identical (initializing a BertForSequenceClassification model from a BertForSequenceClassification model).\n",
            "[2022-12-13 19:35:07,764] [INFO] Initialized pipeline components: ['transformer', 'ner']\n",
            "INFO:spacy:Initialized pipeline components: ['transformer', 'ner']\n",
            "\u001b[38;5;2m✔ Initialized pipeline\u001b[0m\n",
            "\u001b[1m\n",
            "============================= Training pipeline =============================\u001b[0m\n",
            "\u001b[38;5;4mℹ Pipeline: ['transformer', 'ner']\u001b[0m\n",
            "\u001b[38;5;4mℹ Initial learn rate: 0.0\u001b[0m\n",
            "E    #       LOSS TRANS...  LOSS NER  ENTS_F  ENTS_P  ENTS_R  SCORE \n",
            "---  ------  -------------  --------  ------  ------  ------  ------\n",
            "  0       0        1145.50   1804.52    0.12    0.06    2.41    0.00\n",
            "  1     200      144261.99  77141.46   28.64   57.52   19.07    0.29\n",
            "  2     400      139512.44  19506.77   51.56   53.00   50.21    0.52\n",
            "  3     600       53216.99  12170.03   67.76   68.75   66.80    0.68\n",
            "  4     800       24503.63   9169.03   77.82   77.45   78.19    0.78\n",
            "  5    1000       16384.95   7251.61   83.21   83.54   82.89    0.83\n",
            "  6    1200        8462.30   5795.17   90.48   90.31   90.66    0.90\n",
            "  7    1400        2052.55   4437.90   92.21   92.07   92.34    0.92\n",
            "  8    1600        2270.51   3903.70   95.54   95.49   95.59    0.96\n",
            "  9    1800        1488.22   3634.72   96.50   96.41   96.58    0.96\n",
            " 10    2000        1797.06   3443.00   97.47   97.43   97.51    0.97\n",
            "\n",
            "Aborted!\n"
          ]
        }
      ]
    },
    {
      "cell_type": "code",
      "source": [
        "import spacy\n",
        "\n",
        "nlp_ner = spacy.load(\"model-best\")\n",
        "\n",
        "preamble_doc = nlp_ner(data_C[1]['data']['text'])\n",
        "judgement_doc = nlp_ner(data_D[10]['data']['text'])\n",
        "\n",
        "colors = {\"COURT\": \"#FFFFFF\", \"JUDGE\": \"#1FEA47\", \"PETITIONER\": \"#F67DE3\", \"RESPONDENT\": \"#7DF6D9\", \"LAWYER\": \"#AD685E\", \"DATE\": \"#AD685E\", \"GPE\": \"#AD685E\", \"ORG\": \"#AD685E\", \"STATUE\": \"#AD685E\", \"PROVISION\": \"#1FEA47\",\"PRECEDENT\": \"#1FEA47\",\"CASE NUMBER\": \"#1FEA47\" }\n",
        "options = {\"colors\": colors}\n",
        "\n",
        "spacy.displacy.render(preamble_doc, style=\"ent\", options= options, jupyter=True)\n",
        "spacy.displacy.render(judgement_doc, style=\"ent\", options= options, jupyter=True)"
      ],
      "metadata": {
        "execution": {
          "iopub.status.busy": "2022-11-30T20:38:09.571739Z",
          "iopub.execute_input": "2022-11-30T20:38:09.572794Z",
          "iopub.status.idle": "2022-11-30T20:38:11.688293Z",
          "shell.execute_reply.started": "2022-11-30T20:38:09.572754Z",
          "shell.execute_reply": "2022-11-30T20:38:11.686866Z"
        },
        "trusted": true,
        "colab": {
          "base_uri": "https://localhost:8080/",
          "height": 1000
        },
        "id": "W1xyR_1T8sI9",
        "outputId": "89aea313-b2e1-4e6b-b467-d8bb8df439e2"
      },
      "execution_count": 11,
      "outputs": [
        {
          "output_type": "display_data",
          "data": {
            "text/plain": [
              "<IPython.core.display.HTML object>"
            ],
            "text/html": [
              "<span class=\"tex2jax_ignore\"><div class=\"entities\" style=\"line-height: 2.5; direction: ltr\">1</br></br>                                                                 Reportable</br></br>                              In The \n",
              "<mark class=\"entity\" style=\"background: #FFFFFF; padding: 0.45em 0.6em; margin: 0 0.25em; line-height: 1; border-radius: 0.35em;\">\n",
              "    Supreme Court Of India\n",
              "    <span style=\"font-size: 0.8em; font-weight: bold; line-height: 1; border-radius: 0.35em; vertical-align: middle; margin-left: 0.5rem\">COURT</span>\n",
              "</mark>\n",
              "</br>                               Civil Appellate Jurisdiction</br></br>                              Civil Appeal No. 706 Of 2021</br>                         (Arising Out Of Slp(C)No.24950 Of 2015)</br></br>  Parmar Samantsinh Umedsinh                                  … Appellant</br></br>                                           Vs.</br></br>  State Of Gujarat &amp; Ors.                                     … Respondents</br></br>                                          With</br></br>                              Civil Appeal No. 707 Of 2021</br>                         (Arising Out Of Slp(C)No.30635 Of 2015)</br></br>  State Election Commission                                   … Appellant</br></br>                                           Vs.</br></br>  Virendrasinh Mafaji Vaghela &amp; Ors.                          … Respondents</br></br>                                          With</br></br>                             Writ Petition (C)No.786 Of 2020</br></br>  Narendra Kumar Ambalal Ravat                            … Appellant</br></br>                                           Vs.</br></br>  State Of Gujarat &amp; Ors.                                 … Respondents</br></br>                                     J U D G M E N T</br></br></br></div></span>"
            ]
          },
          "metadata": {}
        },
        {
          "output_type": "display_data",
          "data": {
            "text/plain": [
              "<IPython.core.display.HTML object>"
            ],
            "text/html": [
              "<span class=\"tex2jax_ignore\"><div class=\"entities\" style=\"line-height: 2.5; direction: ltr\">&quot;..........Deficiencies in investigation by way of omissions and lapses on the part of investigating agency cannot in themselves justify a total rejection of the prosecution case.&quot; </br></br> Hon'ble the \n",
              "<mark class=\"entity\" style=\"background: #FFFFFF; padding: 0.45em 0.6em; margin: 0 0.25em; line-height: 1; border-radius: 0.35em;\">\n",
              "    Supreme Court\n",
              "    <span style=\"font-size: 0.8em; font-weight: bold; line-height: 1; border-radius: 0.35em; vertical-align: middle; margin-left: 0.5rem\">COURT</span>\n",
              "</mark>\n",
              " has again in the case of Surajit Sarkar Vs. State of West Bengal36, has addressed the issue and held that:-</br>49.</div></span>"
            ]
          },
          "metadata": {}
        }
      ]
    }
  ]
}